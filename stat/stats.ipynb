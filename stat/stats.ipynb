{
 "cells": [
  {
   "cell_type": "code",
   "execution_count": 1,
   "metadata": {},
   "outputs": [],
   "source": [
    "import pandas as pd\n",
    "import numpy as np\n",
    "import matplotlib.pyplot as plt\n",
    "from scipy.stats.contingency import expected_freq\n",
    "from scipy import stats\n",
    "import statsmodels.api as sm\n",
    "from sklearn.linear_model import LinearRegression\n",
    "from statsmodels.formula.api import ols\n",
    "%matplotlib inline"
   ]
  },
  {
   "cell_type": "markdown",
   "metadata": {},
   "source": [
    "# Вариант 5"
   ]
  },
  {
   "cell_type": "markdown",
   "metadata": {},
   "source": [
    "## Выполните следующие задания:"
   ]
  },
  {
   "cell_type": "markdown",
   "metadata": {},
   "source": [
    "Обработайте статистические данные 100 независимых измерений некоторой физической величины Х.\n",
    "\n",
    "1) Составьте статистическое распределение частот выборки Х.\n",
    "\n",
    "2) Найдите эмпирическую функцию распределения и постройте ее график.\n",
    "\n",
    "3) Постройте полигон и гистограмму относительных частот.\n",
    "\n",
    "4) Вычислите числовые характеристики:\n",
    "\n",
    "• выборочную среднюю;\n",
    "\n",
    "• выборочную дисперсию;\n",
    "\n",
    "• выборочное среднее квадратическое отклонение;\n",
    "\n",
    "• коэффициенты эксцесса и ассиметрии.\n",
    "\n",
    "5) Выдвинув гипотезу о нормальном распределении, проверьте ее критерием согласия Пирсона при уровне значимости а = 0.05.\n",
    "\n",
    "6) Найдите точечные и интервальные оценки параметров распределения (доверительную вероятность принять равной 0.95).\n",
    "\n",
    "7) Сделать регрессионный анализ\n",
    "\n",
    "8) Дисперсионный анализ"
   ]
  },
  {
   "cell_type": "code",
   "execution_count": 2,
   "metadata": {},
   "outputs": [
    {
     "data": {
      "text/html": [
       "<div>\n",
       "<style scoped>\n",
       "    .dataframe tbody tr th:only-of-type {\n",
       "        vertical-align: middle;\n",
       "    }\n",
       "\n",
       "    .dataframe tbody tr th {\n",
       "        vertical-align: top;\n",
       "    }\n",
       "\n",
       "    .dataframe thead th {\n",
       "        text-align: right;\n",
       "    }\n",
       "</style>\n",
       "<table border=\"1\" class=\"dataframe\">\n",
       "  <thead>\n",
       "    <tr style=\"text-align: right;\">\n",
       "      <th></th>\n",
       "      <th>X</th>\n",
       "      <th>Y</th>\n",
       "    </tr>\n",
       "  </thead>\n",
       "  <tbody>\n",
       "    <tr>\n",
       "      <th>count</th>\n",
       "      <td>100.000000</td>\n",
       "      <td>100.00000</td>\n",
       "    </tr>\n",
       "    <tr>\n",
       "      <th>mean</th>\n",
       "      <td>169.190000</td>\n",
       "      <td>64.08000</td>\n",
       "    </tr>\n",
       "    <tr>\n",
       "      <th>std</th>\n",
       "      <td>6.472467</td>\n",
       "      <td>6.80861</td>\n",
       "    </tr>\n",
       "    <tr>\n",
       "      <th>min</th>\n",
       "      <td>154.000000</td>\n",
       "      <td>51.00000</td>\n",
       "    </tr>\n",
       "    <tr>\n",
       "      <th>25%</th>\n",
       "      <td>164.000000</td>\n",
       "      <td>59.00000</td>\n",
       "    </tr>\n",
       "    <tr>\n",
       "      <th>50%</th>\n",
       "      <td>169.000000</td>\n",
       "      <td>63.00000</td>\n",
       "    </tr>\n",
       "    <tr>\n",
       "      <th>75%</th>\n",
       "      <td>173.000000</td>\n",
       "      <td>69.00000</td>\n",
       "    </tr>\n",
       "    <tr>\n",
       "      <th>max</th>\n",
       "      <td>190.000000</td>\n",
       "      <td>80.00000</td>\n",
       "    </tr>\n",
       "  </tbody>\n",
       "</table>\n",
       "</div>"
      ],
      "text/plain": [
       "                X          Y\n",
       "count  100.000000  100.00000\n",
       "mean   169.190000   64.08000\n",
       "std      6.472467    6.80861\n",
       "min    154.000000   51.00000\n",
       "25%    164.000000   59.00000\n",
       "50%    169.000000   63.00000\n",
       "75%    173.000000   69.00000\n",
       "max    190.000000   80.00000"
      ]
     },
     "execution_count": 2,
     "metadata": {},
     "output_type": "execute_result"
    }
   ],
   "source": [
    "data=pd.read_csv('dataset.csv')\n",
    "data.describe()"
   ]
  },
  {
   "cell_type": "markdown",
   "metadata": {},
   "source": [
    "## Построим гистограмму распределения. \n",
    "Это нужно для общего представления о наших данных.\n",
    "Для этого воспользуемся функцией hist с выборкой по параметру Х из таблицы. Вывод гистограммы осуществляется с помощью функции show()."
   ]
  },
  {
   "cell_type": "code",
   "execution_count": 3,
   "metadata": {},
   "outputs": [
    {
     "data": {
      "image/png": "[encoded data removed]",
      "text/plain": [
       "<Figure size 432x288 with 1 Axes>"
      ]
     },
     "metadata": {},
     "output_type": "display_data"
    }
   ],
   "source": [
    "plt.hist(data['X'],30)\n",
    "plt.show()"
   ]
  },
  {
   "cell_type": "markdown",
   "metadata": {},
   "source": [
    "# Статистическое распределение частот выборки"
   ]
  },
  {
   "cell_type": "markdown",
   "metadata": {},
   "source": [
    "Для того, чтобы построить статистическое распределение частот выборки, необходимо сначала определить следующие параметры: \n",
    "## Максимальное значение:"
   ]
  },
  {
   "cell_type": "code",
   "execution_count": 4,
   "metadata": {},
   "outputs": [
    {
     "name": "stdout",
     "output_type": "stream",
     "text": [
      "190\n"
     ]
    }
   ],
   "source": [
    "X_max=max(data['X'])\n",
    "print(X_max)"
   ]
  },
  {
   "cell_type": "markdown",
   "metadata": {},
   "source": [
    "## Минимальное значение:"
   ]
  },
  {
   "cell_type": "code",
   "execution_count": 5,
   "metadata": {},
   "outputs": [
    {
     "name": "stdout",
     "output_type": "stream",
     "text": [
      "154\n"
     ]
    }
   ],
   "source": [
    "X_min=min(data['X'])\n",
    "print(X_min)"
   ]
  },
  {
   "cell_type": "markdown",
   "metadata": {},
   "source": [
    "## Разница между минимумом и максимумом:"
   ]
  },
  {
   "cell_type": "code",
   "execution_count": 6,
   "metadata": {},
   "outputs": [
    {
     "name": "stdout",
     "output_type": "stream",
     "text": [
      "36\n"
     ]
    }
   ],
   "source": [
    "R=X_max-X_min\n",
    "print(R)"
   ]
  },
  {
   "cell_type": "markdown",
   "metadata": {},
   "source": [
    "Теперь разобьем выборку на интервальные отрезки. Во многих источниках для определения “оптимального” числа интервалов можно найти упоминание эвристической формулы Старджесса: $$k=3,31*lgn+1$$ Воспользуемся данной формулой.\n",
    "## Число интервалов:"
   ]
  },
  {
   "cell_type": "code",
   "execution_count": 7,
   "metadata": {},
   "outputs": [
    {
     "name": "stdout",
     "output_type": "stream",
     "text": [
      "8.0\n"
     ]
    }
   ],
   "source": [
    "K=float(round(1.0+3.32*np.log10(100)))\n",
    "print(K)"
   ]
  },
  {
   "cell_type": "markdown",
   "metadata": {},
   "source": [
    "Зная разницу наибольшего и наименьшего элемента выборки, а также число интервалов, мы можем найти шаг, с помощью которого задаются значения интервалов. Шаг находим по формуле: $$h=\\frac{R}{k}$$\n",
    "## Шаг:"
   ]
  },
  {
   "cell_type": "code",
   "execution_count": 8,
   "metadata": {},
   "outputs": [
    {
     "name": "stdout",
     "output_type": "stream",
     "text": [
      "4.5\n"
     ]
    }
   ],
   "source": [
    "H=float(R/K)\n",
    "print(H)"
   ]
  },
  {
   "cell_type": "markdown",
   "metadata": {},
   "source": [
    "Теперь, зная все нужные параметры, можно рассчитать частоты по интервалам."
   ]
  },
  {
   "cell_type": "code",
   "execution_count": 9,
   "metadata": {},
   "outputs": [
    {
     "name": "stdout",
     "output_type": "stream",
     "text": [
      "Частоты по интервалам:\n",
      "[0.03, 0.18, 0.17, 0.35, 0.16, 0.07, 0.02, 0.02]\n"
     ]
    }
   ],
   "source": [
    "def intervals_cumsum(x_min,step,size):\n",
    "    start=x_min\n",
    "    a=[]\n",
    "    b=[]\n",
    "    for i in range(size):\n",
    "        a.append(start)\n",
    "        start+=step\n",
    "        b.append(start)\n",
    "    return a,b\n",
    "\n",
    "def count_values(data,element):\n",
    "    count=0;counts=[]\n",
    "    for item in data['X']:\n",
    "        if item<=element:\n",
    "            count+=1\n",
    "    return count\n",
    "   \n",
    "def counter_in(data,b):\n",
    "    delta=[];f=0\n",
    "    for index in range(len(b)):\n",
    "        first=count_values(data,b[index])-f\n",
    "        delta.append(first)\n",
    "        f+=first\n",
    "    return delta\n",
    "  \n",
    "        \n",
    "def frequences(ni,n):\n",
    "    freq=[]\n",
    "    for item in ni:\n",
    "        freq.append(item/n)\n",
    "    return freq\n",
    "        \n",
    "a,b=intervals_cumsum(X_min,H,int(K))\n",
    "ni=counter_in(data,b)\n",
    "freq=frequences(ni,100.0)\n",
    "print('Частоты по интервалам:')\n",
    "print(freq)"
   ]
  },
  {
   "cell_type": "markdown",
   "metadata": {},
   "source": [
    "Чтобы проверить правильность рассчетов, можно вывести сумму посчитанных частот и убедиться, что сумма равна 1:"
   ]
  },
  {
   "cell_type": "code",
   "execution_count": 10,
   "metadata": {},
   "outputs": [
    {
     "name": "stdout",
     "output_type": "stream",
     "text": [
      "Сумма частот:\n",
      "1.0\n"
     ]
    }
   ],
   "source": [
    "print('Сумма частот:')\n",
    "print(round(sum(freq)))"
   ]
  },
  {
   "cell_type": "markdown",
   "metadata": {},
   "source": [
    "# Построим полигон и гистограмму посчитанных частот\n",
    "Чтобы построить полигон, воспользуемся функцией plot(). Зададим ось х отрезком от 0 до 25 с шагом 8:"
   ]
  },
  {
   "cell_type": "code",
   "execution_count": 11,
   "metadata": {},
   "outputs": [
    {
     "data": {
      "image/png": "[encoded data removed]",
      "text/plain": [
       "<Figure size 432x288 with 1 Axes>"
      ]
     },
     "metadata": {},
     "output_type": "display_data"
    }
   ],
   "source": [
    "x=np.linspace(0,25,8)\n",
    "plt.plot(x,freq)\n",
    "plt.title('Poligon')\n",
    "plt.show()"
   ]
  },
  {
   "cell_type": "markdown",
   "metadata": {},
   "source": [
    "Построим гистограмму, используя функцию hist(), которой уже пользовались ранее:"
   ]
  },
  {
   "cell_type": "code",
   "execution_count": 12,
   "metadata": {},
   "outputs": [
    {
     "data": {
      "image/png": "[encoded data removed]",
      "text/plain": [
       "<Figure size 432x288 with 1 Axes>"
      ]
     },
     "metadata": {},
     "output_type": "display_data"
    }
   ],
   "source": [
    "plt.hist(x,10,weights=freq)\n",
    "plt.title('Hist')\n",
    "plt.show()"
   ]
  },
  {
   "cell_type": "markdown",
   "metadata": {},
   "source": [
    "# Эмпирическая функция распределения"
   ]
  },
  {
   "cell_type": "markdown",
   "metadata": {},
   "source": [
    "С помощью модуля distributions библиотеки statsmodels построим график функции распределения. Начальное значение оси Х - минимальный элемент выборки, последнее значение - максимальный элемент. "
   ]
  },
  {
   "cell_type": "code",
   "execution_count": 13,
   "metadata": {},
   "outputs": [
    {
     "data": {
      "image/png": "[encoded data removed]",
      "text/plain": [
       "<Figure size 432x288 with 1 Axes>"
      ]
     },
     "metadata": {},
     "output_type": "display_data"
    }
   ],
   "source": [
    "graph = sm.distributions.ECDF(data['X'])\n",
    "x = np.linspace(min(data['X']), max(data['X']))\n",
    "y = graph(x)\n",
    "plt.step(x, y)\n",
    "plt.show()"
   ]
  },
  {
   "cell_type": "markdown",
   "metadata": {},
   "source": [
    "# Вычисление числовых характеристик"
   ]
  },
  {
   "cell_type": "markdown",
   "metadata": {},
   "source": [
    "## Мода выборки\n",
    "Мода выборки вычисляется с помощью модуля stats библиотеки scipy. В качестве входных данных используется столбец Х. "
   ]
  },
  {
   "cell_type": "markdown",
   "metadata": {},
   "source": [
    "Модой распределения называется такая величина изучаемого признака, которая в данной совокупности встречается наиболее часто, т.е. один из вариантов признака повторяется чаще, чем все другие."
   ]
  },
  {
   "cell_type": "code",
   "execution_count": 14,
   "metadata": {},
   "outputs": [
    {
     "name": "stdout",
     "output_type": "stream",
     "text": [
      "Мода выборки:\n",
      "ModeResult(mode=array([171]), count=array([11]))\n"
     ]
    }
   ],
   "source": [
    "print(\"Мода выборки:\")\n",
    "\n",
    "print(stats.mode(data['X']))"
   ]
  },
  {
   "cell_type": "markdown",
   "metadata": {},
   "source": [
    "## Медиана\n",
    "Медиана вычисляется с помощью функции median() библиотеки numpy. "
   ]
  },
  {
   "cell_type": "markdown",
   "metadata": {},
   "source": [
    "Медиана - это значение признака, приходящееся на середину ряда, расположенного в порядке возрастания или убывания числовых значений признака."
   ]
  },
  {
   "cell_type": "code",
   "execution_count": 15,
   "metadata": {},
   "outputs": [
    {
     "name": "stdout",
     "output_type": "stream",
     "text": [
      "Медиана:\n",
      "169.0\n"
     ]
    }
   ],
   "source": [
    "print(\"Медиана:\")\n",
    "\n",
    "print(np.median(data['X']))"
   ]
  },
  {
   "cell_type": "markdown",
   "metadata": {},
   "source": [
    "## Среднее значение\n",
    "Среднее значение вычисляется с помощью функции mean() библиотеки numpy. "
   ]
  },
  {
   "cell_type": "code",
   "execution_count": 16,
   "metadata": {},
   "outputs": [
    {
     "name": "stdout",
     "output_type": "stream",
     "text": [
      "Среднее значение:\n",
      "169.19\n"
     ]
    }
   ],
   "source": [
    "print(\"Среднее значение:\")\n",
    "\n",
    "print(np.mean(data['X']))"
   ]
  },
  {
   "cell_type": "markdown",
   "metadata": {},
   "source": [
    "## Дисперсия\n",
    "Дисперсия вычисляется с помощью функции var() библиотеки numpy."
   ]
  },
  {
   "cell_type": "markdown",
   "metadata": {},
   "source": [
    "Если матожидание отражает центр случайной величины, то дисперсия дает характеристику разброса данных вокруг центра. То есть дисперсия - это математическое ожидание отклонений от математического ожидания."
   ]
  },
  {
   "cell_type": "code",
   "execution_count": 17,
   "metadata": {},
   "outputs": [
    {
     "name": "stdout",
     "output_type": "stream",
     "text": [
      "Дисперсия:\n",
      "41.4739\n"
     ]
    }
   ],
   "source": [
    "print(\"Дисперсия:\")\n",
    "\n",
    "print(np.var(data['X']))"
   ]
  },
  {
   "cell_type": "markdown",
   "metadata": {},
   "source": [
    "## Среднее квадратичное отклонение\n",
    "Среднее квадратичное отклонение вычисляется с помощью функции std() библиотеки numpy. "
   ]
  },
  {
   "cell_type": "markdown",
   "metadata": {},
   "source": [
    "Среднеквадратичное отклонение, очевидно, также характеризует меру рассеяния данных, но теперь (в отличие от дисперсии) его можно сравнивать с исходными данными, так как единицы измерения у них одинаковые. "
   ]
  },
  {
   "cell_type": "code",
   "execution_count": 18,
   "metadata": {},
   "outputs": [
    {
     "name": "stdout",
     "output_type": "stream",
     "text": [
      "Среднее квадратичное отклонение:\n",
      "6.440023291883345\n"
     ]
    }
   ],
   "source": [
    "print(\"Среднее квадратичное отклонение:\")\n",
    "\n",
    "print(np.std(data['X']))"
   ]
  },
  {
   "cell_type": "markdown",
   "metadata": {},
   "source": [
    "## Коэффициент вариации\n",
    "Среднее квадратическое отклонение дает абсолютную оценку меры разброса. Поэтому чтобы понять, насколько разброс велик относительно самих значений, требуется относительный показатель. Такой показатель называется коэффициентом вариации."
   ]
  },
  {
   "cell_type": "code",
   "execution_count": 19,
   "metadata": {},
   "outputs": [
    {
     "name": "stdout",
     "output_type": "stream",
     "text": [
      "Коэффициент вариации:\n",
      "0.03806385301662832\n"
     ]
    }
   ],
   "source": [
    "print(\"Коэффициент вариации:\")\n",
    "\n",
    "print(stats.variation(data['X']))"
   ]
  },
  {
   "cell_type": "markdown",
   "metadata": {},
   "source": [
    "## Коэффициенты эксцесса и асимметрии\n",
    "Коэффициенты эксцесса и асимметрии вычисляются с помощью функций модуля stats библиотеки scipy.\n"
   ]
  },
  {
   "cell_type": "markdown",
   "metadata": {},
   "source": [
    "Коэффициент эксцесса $\\gamma_1$ — мера остроты пика по сравнению с нормальным распределением: $\\gamma_1=0$ в случае так называемого нормального эксцесса (в силу того, что у нормального распределения тоже $\\gamma_1=0$), $\\gamma_1<0$ в случае дефекта (т.н. отрицательный эксцесс, когда в окрестности моды более низкая и плоская вершина, чем у нормального распределения), $\\gamma_1>0$ в случае эксцесса (т.н. положительный эксцесс, когда в окрестности моды более острый и высокий пик, чем у нормального распределения)."
   ]
  },
  {
   "cell_type": "markdown",
   "metadata": {},
   "source": [
    "Коэффициент асимметрии $\\gamma_2$ — мера асимметричности: $\\gamma_2=0$ в случае симметричности распределения относительно мат.ожидания, $\\gamma_2<0$ в случае левой асимметрии (отн. мат.ожидания левый хвост длиннее правого),  $\\gamma_2>0$ в случае правой асимметрии (отн. мат.ожидания правый хвост длиннее левого)."
   ]
  },
  {
   "cell_type": "code",
   "execution_count": 20,
   "metadata": {},
   "outputs": [
    {
     "name": "stdout",
     "output_type": "stream",
     "text": [
      "\n",
      "Коэффициент эксцесса:\n",
      "0.550390447749\n",
      "\n",
      "Коэффициент асимметрии:\n",
      "0.397625789211\n"
     ]
    }
   ],
   "source": [
    "print(\"\\nКоэффициент эксцесса:\")\n",
    "\n",
    "print(stats.kurtosis(data['X']))\n",
    "\n",
    "print(\"\\nКоэффициент асимметрии:\")\n",
    "\n",
    "print(stats.skew(data['X']))"
   ]
  },
  {
   "cell_type": "markdown",
   "metadata": {},
   "source": [
    "## Нормальность распределения\n",
    "Выполним проверку на нормальность распределения с помощью критерия Колмогорова. Для проверки используем встроенную функцию kstest() модуля stats."
   ]
  },
  {
   "cell_type": "markdown",
   "metadata": {},
   "source": [
    "Классический критерий Колмогорова (иногда говорят Колмогорова-Смирнова) предназначен для проверки простых гипотез о принадлежности анализируемой выборки некоторому полностью известному закону распределения. Данный критерий похож на критерий Пирсона, только анализируется разность между функцией распределения предполагаемого распределения и имеющегося распределения данных измерений."
   ]
  },
  {
   "cell_type": "code",
   "execution_count": 21,
   "metadata": {},
   "outputs": [
    {
     "name": "stdout",
     "output_type": "stream",
     "text": [
      "Нормальность распределения (Критерий Колмогорова):\n",
      "KstestResult(statistic=1.0, pvalue=0.0)\n"
     ]
    }
   ],
   "source": [
    "print(\"Нормальность распределения (Критерий Колмогорова):\")\n",
    "\n",
    "print(stats.kstest(data['X'], 'norm'))"
   ]
  },
  {
   "cell_type": "markdown",
   "metadata": {},
   "source": [
    "# Точечные и интервальные оценки параметров распределения"
   ]
  },
  {
   "cell_type": "markdown",
   "metadata": {},
   "source": [
    "Оценки неизвестных параметров бывают двух видов – точечные и интервальные . \n",
    "Точечная оценка - оценка имеющая конкретное числовое значение. Например, среднее арифметическое: $$\\frac{(x1+x2+...+xn)}{n}$$ где: x1,x2,...xn - выборочные значения; n - объем выборки.\n",
    "\n",
    "Интервальная оценка - оценка представляемая интервалом значений, внутри которого с задаваемой исследователем вероятностью 1- α находится истинное значение оцениваемого параметра. Интервал в интервальной оценке называется доверительным интервалом, задаваемая исследователем вероятность, 1- α, называется доверительной вероятностью. В практике статистических вычислений применяются стандартные значения доверительной вероятности: 0,95, 0,98 и 0,99 (95%, 98% и 99% соответственно)."
   ]
  },
  {
   "cell_type": "code",
   "execution_count": 22,
   "metadata": {},
   "outputs": [],
   "source": [
    "T_coef=1.98\n",
    "\n",
    "def get_mean_intervals(a,b): ##получаем средние значения интервалов\n",
    "    means=[]\n",
    "    for i in range(len(a)):\n",
    "        means.append((a[i]+b[i])/2)\n",
    "    return means\n",
    "\n",
    "def mean_mult_freq(means,freq): ##умножаем полученные значения на значения частов этих интервалов\n",
    "    m=[]\n",
    "    for i in range(len(means)):\n",
    "        m.append(means[i]*freq[i])\n",
    "    return m\n",
    "\n",
    "def get_d(means): ##вычисляем сумму значений, полученных на предыдущем шаге, затем из каждого элемента вычитаем эту сумму\n",
    "    data=[]\n",
    "    for item in means:\n",
    "        data.append(round(item-sum(mean_mult_freq(means,freq)),2))\n",
    "    return data\n",
    "\n",
    "def get_d2(d,freq): ##умножаем квадрат полученных значений на соответствующие им частоты\n",
    "    data=[]\n",
    "    for i in range(len(d)):\n",
    "        data.append(round(d[i]**2*freq[i],2))\n",
    "    return data\n",
    "\n",
    "means=get_mean_intervals(a,b) \n",
    "\n",
    "d=get_d(means)\n",
    "d=get_d2(d,freq)\n",
    "\n",
    "S=np.sqrt(sum(d)*100/99) ##получаем несмещенное значение\n",
    "yolo=T_coef*S/np.sqrt(len(data['X'])) ##вычисляем значение для разброса интервальной оценки\n",
    "xmax=round(np.mean(data['X'])+yolo,2) ##рассчитываем нижнюю и верхнюю границу интервала\n",
    "xmin=round(np.mean(data['X'])-yolo,2)"
   ]
  },
  {
   "cell_type": "markdown",
   "metadata": {},
   "source": [
    "Интервальная оценка:"
   ]
  },
  {
   "cell_type": "code",
   "execution_count": 23,
   "metadata": {},
   "outputs": [
    {
     "name": "stdout",
     "output_type": "stream",
     "text": [
      "167.9 < a < 170.48\n"
     ]
    }
   ],
   "source": [
    "print(str(xmin)+' < a < '+str(xmax))"
   ]
  },
  {
   "cell_type": "markdown",
   "metadata": {},
   "source": [
    "Воспользуемся критерием Пирсона для получения точечной оценки. Результатом выполнения функции pearsonr() модуля stats являются 2 числа, показывающие, насколько близко наше распределение к нормальному. "
   ]
  },
  {
   "cell_type": "code",
   "execution_count": 24,
   "metadata": {},
   "outputs": [
    {
     "name": "stdout",
     "output_type": "stream",
     "text": [
      "(0.6978299811232923, 7.147254325453498e-16)\n"
     ]
    }
   ],
   "source": [
    "coef_corr=stats.pearsonr(data['X'],data['Y'])\n",
    "print(coef_corr)"
   ]
  },
  {
   "cell_type": "markdown",
   "metadata": {},
   "source": [
    "Если результат выполнения функции - (0, 0), это значит, что значения Х и Y - независимы. В нашем случае ситуация обратная, поэтому можно сделать вывод о зависимости параметров и нормальном распределении выборки."
   ]
  },
  {
   "cell_type": "markdown",
   "metadata": {},
   "source": [
    "# Регрессионный анализ"
   ]
  },
  {
   "cell_type": "markdown",
   "metadata": {},
   "source": [
    "Для работы с регрессионным анализом воспользуемся модулем LinearRegression библиотеки sklearn. Функция fit() принимает значения таблицы по Х и У и возвращает саму себя:"
   ]
  },
  {
   "cell_type": "code",
   "execution_count": 25,
   "metadata": {},
   "outputs": [
    {
     "name": "stderr",
     "output_type": "stream",
     "text": [
      "/Library/Frameworks/Python.framework/Versions/2.7/lib/python2.7/site-packages/sklearn/linear_model/base.py:509: RuntimeWarning: internal gelsd driver lwork query error, required iwork dimension not returned. This is likely the result of LAPACK bug 0038, fixed in LAPACK 3.2.2 (released July 21, 2010). Falling back to 'gelss' driver.\n",
      "  linalg.lstsq(X, y)\n"
     ]
    }
   ],
   "source": [
    "lr=LinearRegression().fit(data[['X']], data[['Y']])"
   ]
  },
  {
   "cell_type": "markdown",
   "metadata": {},
   "source": [
    "## Коэффициент линейной регрессии\n",
    "Коэффициенты линейной регрессии показывают скорость изменения зависимой переменной по данному фактору, при фиксированных остальных факторах (в линейной модели эта скорость постоянна)."
   ]
  },
  {
   "cell_type": "code",
   "execution_count": 26,
   "metadata": {},
   "outputs": [
    {
     "name": "stdout",
     "output_type": "stream",
     "text": [
      "0.734071307497004\n"
     ]
    }
   ],
   "source": [
    "print(lr.coef_[0][0])"
   ]
  },
  {
   "cell_type": "markdown",
   "metadata": {},
   "source": [
    "## R-квадрат\n",
    "Функция score()  возвращает коэффициент детерминации R-квадрат. Коэффициент детерминации принимает значения от 0 до 1. Чем ближе значение коэффициента к 1, тем сильнее зависимость. При оценке регрессионных моделей это интерпретируется как соответствие модели данным. Для приемлемых моделей предполагается, что коэффициент детерминации должен быть хотя бы не меньше 50% (в этом случае коэффициент множественной корреляции превышает по модулю 70%). Модели с коэффициентом детерминации выше 80% можно признать достаточно хорошими."
   ]
  },
  {
   "cell_type": "code",
   "execution_count": 27,
   "metadata": {},
   "outputs": [
    {
     "name": "stdout",
     "output_type": "stream",
     "text": [
      "0.4869666825545345\n"
     ]
    }
   ],
   "source": [
    "print(lr.score(data[['X']], data[['Y']]))"
   ]
  },
  {
   "cell_type": "markdown",
   "metadata": {},
   "source": [
    "## Множественный R\n",
    "Множественный коэффициент корреляции R (множественное R) - это положительный квадратный корень из R-квадрата. Величина коэффициента корреляции отражает силы связи."
   ]
  },
  {
   "cell_type": "code",
   "execution_count": 28,
   "metadata": {},
   "outputs": [
    {
     "name": "stdout",
     "output_type": "stream",
     "text": [
      "0.6978299811232931\n"
     ]
    }
   ],
   "source": [
    "print(data.corr()['Y'][0])"
   ]
  },
  {
   "cell_type": "markdown",
   "metadata": {},
   "source": [
    "## Стандартная ошибка"
   ]
  },
  {
   "cell_type": "code",
   "execution_count": 29,
   "metadata": {},
   "outputs": [
    {
     "name": "stdout",
     "output_type": "stream",
     "text": [
      "6.472466939492876\n"
     ]
    }
   ],
   "source": [
    "print(np.std(data['X'], ddof=1)) "
   ]
  },
  {
   "cell_type": "markdown",
   "metadata": {},
   "source": [
    "## Уравнение регрессии\n",
    "Используя среднее значение выборки по X и Y, а также зная коэффициент линейной регресии, можно составить уравнение регрессии:"
   ]
  },
  {
   "cell_type": "code",
   "execution_count": 30,
   "metadata": {},
   "outputs": [
    {
     "name": "stdout",
     "output_type": "stream",
     "text": [
      "y=0.734071307497004*(x-169.19)+64.08\n"
     ]
    }
   ],
   "source": [
    "print('y='+str(lr.coef_[0][0])+'*'+'(x-'+str(np.mean(data['X']))+')'+'+'+str(np.mean(data['Y'])))"
   ]
  },
  {
   "cell_type": "markdown",
   "metadata": {},
   "source": [
    "Построим график составленной прямой. Синими точками обозначены входные данные и можно увидеть, что прямая идет как среднее значение этих данных."
   ]
  },
  {
   "cell_type": "code",
   "execution_count": 31,
   "metadata": {},
   "outputs": [
    {
     "data": {
      "image/png": "[encoded data removed]",
      "text/plain": [
       "<Figure size 432x288 with 1 Axes>"
      ]
     },
     "metadata": {},
     "output_type": "display_data"
    }
   ],
   "source": [
    "plt.plot(data[['X']], lr.predict(data[['X']]), color='black',linewidth=2)\n",
    "plt.scatter(data['X'],data['Y'])\n",
    "plt.show()"
   ]
  },
  {
   "cell_type": "markdown",
   "metadata": {},
   "source": [
    "Данные подсчеты можно выполнить как вручную (как это сделано выше), используя функции модуля LinearRegression, а можно воспользоваться пакетом функций ols модуля statsmodels. Выполним с помощью данной функции дисперсионный анализ."
   ]
  },
  {
   "cell_type": "markdown",
   "metadata": {},
   "source": [
    "# Дисперсионный анализ\n",
    "Откуда произошло название дисперсионный анализ? Может показаться странным, что процедура сравнения средних называется дисперсионным анализом. В действительности, это связано с тем, что при исследовании статистической значимости различия между средними двух (или нескольких) групп, мы на самом деле сравниваем (анализируем) выборочные дисперсии. \n"
   ]
  },
  {
   "cell_type": "markdown",
   "metadata": {},
   "source": [
    "Метод наименьших квадратов (англ. Ordinary Least Squares, OLS) — математический метод, применяемый для решения различных задач, основанный на минимизации суммы квадратов отклонений некоторых функций от искомых переменных. Выполним метод наименьших квадратов, установив, что Х зависит от Y (Y~X). Заполняем таблицу."
   ]
  },
  {
   "cell_type": "code",
   "execution_count": 32,
   "metadata": {},
   "outputs": [
    {
     "data": {
      "text/html": [
       "<div>\n",
       "<style scoped>\n",
       "    .dataframe tbody tr th:only-of-type {\n",
       "        vertical-align: middle;\n",
       "    }\n",
       "\n",
       "    .dataframe tbody tr th {\n",
       "        vertical-align: top;\n",
       "    }\n",
       "\n",
       "    .dataframe thead th {\n",
       "        text-align: right;\n",
       "    }\n",
       "</style>\n",
       "<table border=\"1\" class=\"dataframe\">\n",
       "  <thead>\n",
       "    <tr style=\"text-align: right;\">\n",
       "      <th></th>\n",
       "      <th>df</th>\n",
       "      <th>sum_sq</th>\n",
       "      <th>mean_sq</th>\n",
       "      <th>F</th>\n",
       "      <th>PR(&gt;F)</th>\n",
       "    </tr>\n",
       "  </thead>\n",
       "  <tbody>\n",
       "    <tr>\n",
       "      <th>X</th>\n",
       "      <td>1.0</td>\n",
       "      <td>2234.865414</td>\n",
       "      <td>2234.865414</td>\n",
       "      <td>93.020732</td>\n",
       "      <td>7.147254e-16</td>\n",
       "    </tr>\n",
       "    <tr>\n",
       "      <th>Residual</th>\n",
       "      <td>98.0</td>\n",
       "      <td>2354.494586</td>\n",
       "      <td>24.025455</td>\n",
       "      <td>NaN</td>\n",
       "      <td>NaN</td>\n",
       "    </tr>\n",
       "  </tbody>\n",
       "</table>\n",
       "</div>"
      ],
      "text/plain": [
       "            df       sum_sq      mean_sq          F        PR(>F)\n",
       "X          1.0  2234.865414  2234.865414  93.020732  7.147254e-16\n",
       "Residual  98.0  2354.494586    24.025455        NaN           NaN"
      ]
     },
     "execution_count": 32,
     "metadata": {},
     "output_type": "execute_result"
    }
   ],
   "source": [
    "cw_lm=ols('Y~X',data).fit()\n",
    "sm.stats.anova_lm(cw_lm)"
   ]
  },
  {
   "cell_type": "markdown",
   "metadata": {},
   "source": [
    "Используя различные методы оценок, выведем общую информацию."
   ]
  },
  {
   "cell_type": "code",
   "execution_count": 33,
   "metadata": {},
   "outputs": [
    {
     "data": {
      "text/html": [
       "<table class=\"simpletable\">\n",
       "<caption>OLS Regression Results</caption>\n",
       "<tr>\n",
       "  <th>Dep. Variable:</th>            <td>Y</td>        <th>  R-squared:         </th> <td>   0.487</td>\n",
       "</tr>\n",
       "<tr>\n",
       "  <th>Model:</th>                   <td>OLS</td>       <th>  Adj. R-squared:    </th> <td>   0.482</td>\n",
       "</tr>\n",
       "<tr>\n",
       "  <th>Method:</th>             <td>Least Squares</td>  <th>  F-statistic:       </th> <td>   93.02</td>\n",
       "</tr>\n",
       "<tr>\n",
       "  <th>Date:</th>             <td>Tue, 22 May 2018</td> <th>  Prob (F-statistic):</th> <td>7.15e-16</td>\n",
       "</tr>\n",
       "<tr>\n",
       "  <th>Time:</th>                 <td>01:46:34</td>     <th>  Log-Likelihood:    </th> <td> -299.84</td>\n",
       "</tr>\n",
       "<tr>\n",
       "  <th>No. Observations:</th>      <td>   100</td>      <th>  AIC:               </th> <td>   603.7</td>\n",
       "</tr>\n",
       "<tr>\n",
       "  <th>Df Residuals:</th>          <td>    98</td>      <th>  BIC:               </th> <td>   608.9</td>\n",
       "</tr>\n",
       "<tr>\n",
       "  <th>Df Model:</th>              <td>     1</td>      <th>                     </th>     <td> </td>   \n",
       "</tr>\n",
       "<tr>\n",
       "  <th>Covariance Type:</th>      <td>nonrobust</td>    <th>                     </th>     <td> </td>   \n",
       "</tr>\n",
       "</table>\n",
       "<table class=\"simpletable\">\n",
       "<tr>\n",
       "      <td></td>         <th>coef</th>     <th>std err</th>      <th>t</th>      <th>P>|t|</th>  <th>[0.025</th>    <th>0.975]</th>  \n",
       "</tr>\n",
       "<tr>\n",
       "  <th>Intercept</th> <td>  -60.1175</td> <td>   12.887</td> <td>   -4.665</td> <td> 0.000</td> <td>  -85.691</td> <td>  -34.545</td>\n",
       "</tr>\n",
       "<tr>\n",
       "  <th>X</th>         <td>    0.7341</td> <td>    0.076</td> <td>    9.645</td> <td> 0.000</td> <td>    0.583</td> <td>    0.885</td>\n",
       "</tr>\n",
       "</table>\n",
       "<table class=\"simpletable\">\n",
       "<tr>\n",
       "  <th>Omnibus:</th>       <td> 0.086</td> <th>  Durbin-Watson:     </th> <td>   1.885</td>\n",
       "</tr>\n",
       "<tr>\n",
       "  <th>Prob(Omnibus):</th> <td> 0.958</td> <th>  Jarque-Bera (JB):  </th> <td>   0.245</td>\n",
       "</tr>\n",
       "<tr>\n",
       "  <th>Skew:</th>          <td> 0.039</td> <th>  Prob(JB):          </th> <td>   0.885</td>\n",
       "</tr>\n",
       "<tr>\n",
       "  <th>Kurtosis:</th>      <td> 2.770</td> <th>  Cond. No.          </th> <td>4.45e+03</td>\n",
       "</tr>\n",
       "</table><br/><br/>Warnings:<br/>[1] Standard Errors assume that the covariance matrix of the errors is correctly specified.<br/>[2] The condition number is large, 4.45e+03. This might indicate that there are<br/>strong multicollinearity or other numerical problems."
      ],
      "text/plain": [
       "<class 'statsmodels.iolib.summary.Summary'>\n",
       "\"\"\"\n",
       "                            OLS Regression Results                            \n",
       "==============================================================================\n",
       "Dep. Variable:                      Y   R-squared:                       0.487\n",
       "Model:                            OLS   Adj. R-squared:                  0.482\n",
       "Method:                 Least Squares   F-statistic:                     93.02\n",
       "Date:                Tue, 22 May 2018   Prob (F-statistic):           7.15e-16\n",
       "Time:                        01:46:34   Log-Likelihood:                -299.84\n",
       "No. Observations:                 100   AIC:                             603.7\n",
       "Df Residuals:                      98   BIC:                             608.9\n",
       "Df Model:                           1                                         \n",
       "Covariance Type:            nonrobust                                         \n",
       "==============================================================================\n",
       "                 coef    std err          t      P>|t|      [0.025      0.975]\n",
       "------------------------------------------------------------------------------\n",
       "Intercept    -60.1175     12.887     -4.665      0.000     -85.691     -34.545\n",
       "X              0.7341      0.076      9.645      0.000       0.583       0.885\n",
       "==============================================================================\n",
       "Omnibus:                        0.086   Durbin-Watson:                   1.885\n",
       "Prob(Omnibus):                  0.958   Jarque-Bera (JB):                0.245\n",
       "Skew:                           0.039   Prob(JB):                        0.885\n",
       "Kurtosis:                       2.770   Cond. No.                     4.45e+03\n",
       "==============================================================================\n",
       "\n",
       "Warnings:\n",
       "[1] Standard Errors assume that the covariance matrix of the errors is correctly specified.\n",
       "[2] The condition number is large, 4.45e+03. This might indicate that there are\n",
       "strong multicollinearity or other numerical problems.\n",
       "\"\"\""
      ]
     },
     "execution_count": 33,
     "metadata": {},
     "output_type": "execute_result"
    }
   ],
   "source": [
    "cw_lm.summary()"
   ]
  },
  {
   "cell_type": "markdown",
   "metadata": {},
   "source": [
    "Функция summary() позволяет узнать множество показателей дисперсионного анализа. Среди них есть стандартная ошибка, t-статистика, сумма квадратов, средний квадрат и другие."
   ]
  },
  {
   "cell_type": "markdown",
   "metadata": {},
   "source": [
    "#### Одним из методов оценки является критерий Дарбина-Уотсона. \n",
    "Критерий Дарбина—Уотсона (или DW-критерий) — статистический критерий, используемый для тестирования автокорреляции первого порядка элементов исследуемой последовательности. Наиболее часто применяется при анализе временных рядов и остатков регрессионных моделей. Условный показатель, который применяется для выявления автокорреляции во временных рядах (обозначается d). Показатель d вычисляется по формуле: где yt+1 и yt — соответствующие уровни ряда. При отсутствии автокорреляции в исследуемом ряде показатель D.-W. приближается к числу 2, однако для правильного выбора необходимо учитывать, что в каждом конкретном случае величина d зависит от числа оцениваемых параметров и числа наблюдений. В нашем случае показатель равен 1.799."
   ]
  },
  {
   "cell_type": "markdown",
   "metadata": {},
   "source": [
    "В таблице приведены и другие показатели, такие как, например, Тест Харке—Бера (англ. Jarque-Bera test). Это статистический тест, проверяющий ошибки наблюдений на нормальность посредством сверки их третьего момента (асимметрия) и четвёртого момента (эксцесс) с моментами нормального распределения."
   ]
  },
  {
   "cell_type": "markdown",
   "metadata": {},
   "source": [
    "Примечание: можно заметить, что в таблице зануляется столбец P> |t|, чтобы узнать показатели, выведем отдельно этот столбец. "
   ]
  },
  {
   "cell_type": "code",
   "execution_count": 34,
   "metadata": {},
   "outputs": [
    {
     "data": {
      "text/plain": [
       "(0.6978299811232923, 7.147254325453498e-16)"
      ]
     },
     "execution_count": 34,
     "metadata": {},
     "output_type": "execute_result"
    }
   ],
   "source": [
    "stats.pearsonr(data['X'], data['Y']) "
   ]
  },
  {
   "cell_type": "markdown",
   "metadata": {},
   "source": [
    "# Выводы"
   ]
  },
  {
   "cell_type": "markdown",
   "metadata": {},
   "source": [
    "В данной работе показано множество возможностей языка Python для задач математической статистики. "
   ]
  }
 ],
 "metadata": {
  "kernelspec": {
   "display_name": "Python 2",
   "language": "python",
   "name": "python2"
  },
  "language_info": {
   "codemirror_mode": {
    "name": "ipython",
    "version": 2
   },
   "file_extension": ".py",
   "mimetype": "text/x-python",
   "name": "python",
   "nbconvert_exporter": "python",
   "pygments_lexer": "ipython2",
   "version": "2.7.15"
  }
 },
 "nbformat": 4,
 "nbformat_minor": 2
}
