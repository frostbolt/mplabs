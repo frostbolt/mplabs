{
 "cells": [
  {
   "cell_type": "markdown",
   "metadata": {},
   "source": [
    "# Сергей Лущик. 5 вариант.\n",
    "## Лабораторная работа №1.\n",
    "### Задача 1."
   ]
  },
  {
   "cell_type": "code",
   "execution_count": 1,
   "metadata": {},
   "outputs": [
    {
     "name": "stdout",
     "output_type": "stream",
     "text": [
      "ЛЮЩЫГ ЗЭРКЭЙ ЯЛЭГЗЯНТРЁФЫЧ\n"
     ]
    }
   ],
   "source": [
    "pairs = {\"А\":\"Я\",\"Б\":\"П\",\"В\":\"Ф\",\"Г\":\"К\",\"Д\":\"Т\",\n",
    "         \"Е\":\"Э\",\"Ё\":\"О\",\"Ж\":\"Ш\",\"З\":\"С\",\"И\":\"Ы\",\"У\":\"Ю\"}\n",
    "pairs_r = {v: k for k, v in pairs.items()}\n",
    "pairs.update(pairs_r)\n",
    "\n",
    "my_name = 'Лущик Сергей Александрович'.upper()\n",
    "\n",
    "my_wiered_name = ''\n",
    "for letter in my_name:\n",
    "    if letter in pairs:\n",
    "        my_wiered_name += pairs[letter]\n",
    "    else:\n",
    "        my_wiered_name += letter\n",
    "print(my_wiered_name)"
   ]
  },
  {
   "cell_type": "markdown",
   "metadata": {},
   "source": [
    "### Задача 2."
   ]
  },
  {
   "cell_type": "code",
   "execution_count": 2,
   "metadata": {},
   "outputs": [
    {
     "name": "stdout",
     "output_type": "stream",
     "text": [
      "0b10101-0b10-0b11111001100\n",
      "0x15-0x2-0x7cc\n",
      "0o25-0o2-0o3714\n"
     ]
    }
   ],
   "source": [
    "my_bday = [1996,2,21]\n",
    "for f in bin, hex, oct:\n",
    "    print(\"{}-{}-{}\".format(f(my_bday[2]),f(my_bday[1]),f(my_bday[0])))"
   ]
  },
  {
   "cell_type": "markdown",
   "metadata": {},
   "source": [
    "## Лабораторная работа №2."
   ]
  },
  {
   "cell_type": "code",
   "execution_count": 3,
   "metadata": {
    "scrolled": true
   },
   "outputs": [
    {
     "name": "stdout",
     "output_type": "stream",
     "text": [
      "-1\tНомер месяца указан неверно\n",
      "0\tНомер месяца указан неверно\n",
      "1\tЗима\n",
      "2\tЗима\n",
      "3\tВесна\n",
      "4\tВесна\n",
      "5\tВесна\n",
      "6\tЛето\n",
      "7\tЛето\n",
      "8\tЛето\n",
      "9\tОсень\n",
      "10\tОсень\n",
      "11\tОсень\n",
      "12\tЗима\n",
      "13\tНомер месяца указан неверно\n"
     ]
    }
   ],
   "source": [
    "def season(month_number):\n",
    "    if month_number > 2 and month_number < 6:\n",
    "        return \"Весна\"\n",
    "    elif month_number > 5 and month_number < 9:\n",
    "        return \"Лето\"\n",
    "    elif month_number > 8 and month_number < 12:\n",
    "        return \"Осень\"\n",
    "    elif month_number == 12 or month_number == 1 or month_number == 2:\n",
    "        return \"Зима\"\n",
    "    else:\n",
    "        return \"Номер месяца указан неверно\"\n",
    "    \n",
    "for i in range(-1,14):\n",
    "    print(\"{}\\t{}\".format(i,season(i)))"
   ]
  },
  {
   "cell_type": "markdown",
   "metadata": {},
   "source": [
    "## Лабораторная работа №3."
   ]
  },
  {
   "cell_type": "code",
   "execution_count": 4,
   "metadata": {},
   "outputs": [
    {
     "name": "stdout",
     "output_type": "stream",
     "text": [
      "PI: 3.137611309036285\teps: 10^-6\tnum_iter: 81\n",
      "TIME: 6.127357482910156e-05\n",
      "\n",
      "PI: 3.139730645770133\teps: 10^-7\tnum_iter: 172\n",
      "TIME: 0.00022292137145996094\n",
      "\n",
      "PI: 3.1407299072358965\teps: 10^-8\tnum_iter: 370\n",
      "TIME: 0.000453948974609375\n",
      "\n",
      "PI: 3.1411917339975703\teps: 10^-9\tnum_iter: 795\n",
      "TIME: 0.0009129047393798828\n",
      "\n",
      "PI: 3.141406501947727\teps: 10^-10\tnum_iter: 1711\n",
      "TIME: 0.0020389556884765625\n",
      "\n",
      "PI: 3.1415062725150604\teps: 10^-11\tnum_iter: 3686\n",
      "TIME: 0.0036859512329101562\n",
      "\n",
      "PI: 3.141552553826981\teps: 10^-12\tnum_iter: 7939\n",
      "TIME: 0.007323026657104492\n",
      "\n",
      "PI: 3.141574038921428\teps: 10^-13\tnum_iter: 17101\n",
      "TIME: 0.015573978424072266\n",
      "\n",
      "PI: 3.141584013478969\teps: 10^-14\tnum_iter: 36842\n",
      "TIME: 0.030627012252807617\n",
      "\n",
      "PI: 3.1415886431818674\teps: 10^-15\tnum_iter: 79372\n",
      "TIME: 0.06332683563232422\n",
      "\n",
      "PI: 3.141590792106229\teps: 10^-16\tnum_iter: 170999\n",
      "TIME: 0.14116191864013672\n",
      "\n",
      "PI: 3.1415917895657794\teps: 10^-17\tnum_iter: 368405\n",
      "TIME: 0.30693578720092773\n",
      "\n",
      "PI: 3.14159225254476\teps: 10^-18\tnum_iter: 793702\n",
      "TIME: 0.6369342803955078\n",
      "\n",
      "PI: 3.1415924674410993\teps: 10^-19\tnum_iter: 1709977\n",
      "TIME: 1.354017972946167\n",
      "\n",
      "PI: 3.141592567187035\teps: 10^-20\tnum_iter: 3684033\n",
      "TIME: 2.985732316970825\n",
      "\n",
      "PI: 3.141592613483268\teps: 10^-21\tnum_iter: 7937007\n",
      "TIME: 6.608700275421143\n",
      "\n",
      "PI: 3.141592634957342\teps: 10^-22\tnum_iter: 17099761\n",
      "TIME: 13.565845966339111\n",
      "\n"
     ]
    }
   ],
   "source": [
    "import time\n",
    "def f(n):\n",
    "    return 1./((2*n-1)**2)\n",
    "\n",
    "\n",
    "for eps_pow in range(-6,-23,-1):\n",
    "    \n",
    "    eps = 10**eps_pow\n",
    "    start_time = time.time()\n",
    "    n, f_prev, f_curr, my_pi = 1, f(1), 0, 0\n",
    "    while True:\n",
    "        n += 1\n",
    "        my_pi += f_prev\n",
    "        f_curr = f(n)\n",
    "        if (f_prev - f_curr <= eps): break\n",
    "        f_prev = f_curr\n",
    "        \n",
    "    print(\"PI: {}\\teps: 10^{}\\tnum_iter: {}\\nTIME: {}\\n\".format((my_pi*8)**.5, eps_pow, n, time.time() - start_time))"
   ]
  },
  {
   "cell_type": "markdown",
   "metadata": {
    "collapsed": true
   },
   "source": [
    "## Лабораторная работа №4."
   ]
  },
  {
   "cell_type": "code",
   "execution_count": 5,
   "metadata": {},
   "outputs": [
    {
     "name": "stdout",
     "output_type": "stream",
     "text": [
      "Массив случайных чисел:\n",
      "[ 0.3354357   0.30659109  0.88275977]\n",
      "X_max: 0.8827597664100723,\tX_min: 0.3065910885591592\n",
      "Итоговый массив:\n",
      "[ 0.58218315  0.53212037  1.53212037]\n",
      "\n",
      "\n",
      "Массив случайных чисел:\n",
      "[ 0.00807767  0.95159278  0.70806161  0.17358117]\n",
      "X_max: 0.9515927828561335,\tX_min: 0.008077674540254653\n",
      "Итоговый массив:\n",
      "[ 0.00856126  1.00856126  0.75045074  0.18397286]\n",
      "\n",
      "\n",
      "Массив случайных чисел:\n",
      "[ 0.30789373  0.19785831  0.08898322  0.99820511  0.83177997]\n",
      "X_max: 0.9982051072155451,\tX_min: 0.08898322371777001\n",
      "Итоговый массив:\n",
      "[ 0.33863432  0.21761279  0.09786745  1.09786745  0.91482616]\n",
      "\n",
      "\n"
     ]
    }
   ],
   "source": [
    "import numpy as np\n",
    "def create_arr(n):\n",
    "    X = np.random.rand(n)\n",
    "    print(\"Массив случайных чисел:\\n{}\".format(X))\n",
    "    X_max, X_min = np.max(X), np.min(X)\n",
    "    print(\"X_max: {},\\tX_min: {}\".format(X_max, X_min))\n",
    "    return  X / (X_max - X_min)\n",
    "\n",
    "for i in [3,4,5]:\n",
    "    print(\"Итоговый массив:\\n{}\\n\\n\".format(create_arr(i)))"
   ]
  }
 ],
 "metadata": {
  "kernelspec": {
   "display_name": "Python 3",
   "language": "python",
   "name": "python3"
  },
  "language_info": {
   "codemirror_mode": {
    "name": "ipython",
    "version": 3
   },
   "file_extension": ".py",
   "mimetype": "text/x-python",
   "name": "python",
   "nbconvert_exporter": "python",
   "pygments_lexer": "ipython3",
   "version": "3.6.2"
  }
 },
 "nbformat": 4,
 "nbformat_minor": 2
}
